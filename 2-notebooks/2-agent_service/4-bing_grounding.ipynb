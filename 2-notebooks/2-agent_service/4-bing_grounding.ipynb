{
  "cells": [
    {
      "cell_type": "markdown",
      "id": "intro-bing-grounding",
      "metadata": {},
      "source": [
        "# 🍏 Health & Fitness Agent with Bing Grounding 🍎\n",
        "\n",
        "Welcome to our **Health & Fitness Agent with Bing Grounding** tutorial! In this notebook, we'll demonstrate how to:\n",
        "\n",
        "1. **Initialize** a project using Azure AI Foundry.\n",
        "2. **Create an Agent** with the **BingGroundingTool** for web search.\n",
        "3. **Ask real-world questions** about health and fitness.\n",
        "4. **Retrieve and display** answers, including Bing query URLs and disclaimers.\n",
        "\n",
        "### ⚠️ Important Model Support Note ⚠️\n",
        "> Bing grounding is currently only supported in certain Azure OpenAI models (e.g. `gpt-4o-0513`).\n",
        "> \n",
        "> Make sure you specify a supported model and set the `\"x-ms-enable-preview\": \"true\"` header.\n",
        "\n",
        "## Prerequisites\n",
        "- Complete Agent basics notebook - [1-basics.ipynb](1-basics.ipynb)\n",
        "- Grounding with Bing connection in Azure AI Foundry, which has to be provisioned from Azure portal.\n",
        "See [\"Setup Bing Grounding\"](https://learn.microsoft.com/en-us/azure/ai-services/agents/how-to/tools/bing-grounding?tabs=python&pivots=overview#setup) in the documentation for full details.\n",
        "\n",
        "<img src=\"./seq-diagrams/bing-api-key.png\" width=\"30%\"/>\n",
        "\n",
        "- A `.env` file in the parent directory containing:\n",
        "  ```bash\n",
        "  PROJECT_CONNECTION_STRING=<your-connection-string>\n",
        "  MODEL_DEPLOYMENT_NAME=<supported-model>\n",
        "  BING_CONNECTION_NAME=<the-name-of-your-bing-connection>\n",
        "  ```\n",
        "\n",
        "## Let's Explore Grounding with Bing!\n",
        "We'll integrate **Grounding with Bing** search results into our agent so it can gather extra context from the web. We'll store and display the Bing search query link for transparency. 🎉\n",
        "\n",
        "<br/>\n",
        "\n",
        "<img src=\"./seq-diagrams/4-bing-grounding.png\" width=\"30%\"/>\n"
      ]
    },
    {
      "cell_type": "markdown",
      "id": "setup-initialize",
      "metadata": {},
      "source": [
        "## 1. Initial Setup\n",
        "We'll load environment variables from `.env` and initialize our **AIProjectClient** to manage agents."
      ]
    },
    {
      "cell_type": "code",
      "execution_count": 1,
      "id": "init-code",
      "metadata": {},
      "outputs": [
        {
          "name": "stdout",
          "output_type": "stream",
          "text": [
            "✅ Successfully initialized AIProjectClient\n"
          ]
        }
      ],
      "source": [
        "import os\n",
        "import time\n",
        "from pathlib import Path\n",
        "\n",
        "from dotenv import load_dotenv\n",
        "from azure.identity import DefaultAzureCredential\n",
        "from azure.ai.projects import AIProjectClient\n",
        "from azure.ai.projects.models import BingGroundingTool, MessageTextContent\n",
        "\n",
        "# Load environment variables\n",
        "notebook_path = Path().absolute()\n",
        "parent_dir = notebook_path.parent.parent\n",
        "load_dotenv(parent_dir / '.env')\n",
        "\n",
        "# Initialize AIProjectClient\n",
        "try:\n",
        "    project_client = AIProjectClient.from_connection_string(\n",
        "        credential=DefaultAzureCredential(),\n",
        "        conn_str=os.environ.get(\"PROJECT_CONNECTION_STRING\")\n",
        "    )\n",
        "    print(\"✅ Successfully initialized AIProjectClient\")\n",
        "except Exception as e:\n",
        "    print(f\"❌ Error initializing project client: {e}\")"
      ]
    },
    {
      "cell_type": "markdown",
      "id": "create-agent-with-bing-grounding",
      "metadata": {},
      "source": [
        "## 2. Create Bing-Grounded Agent 🌐\n",
        "We'll fetch our Bing connection from AI Foundry and use `BingGroundingTool` to let our agent search the web. Then we'll create a new agent with disclaimers about not being a doctor, etc.\n",
        "\n",
        "Make sure your `MODEL_DEPLOYMENT_NAME` is set to a Bing-supported model (for example, `gpt-4o-0513`) and that you add the header `{\"x-ms-enable-preview\": \"true\"}`."
      ]
    },
    {
      "cell_type": "code",
      "execution_count": 2,
      "id": "agent-bing-code",
      "metadata": {},
      "outputs": [
        {
          "name": "stdout",
          "output_type": "stream",
          "text": [
            "Bing Connection ID: /subscriptions/3d467b8c-3894-4be7-a93e-a553d04b2e8e/resourceGroups/rg-vancouver14/providers/Microsoft.MachineLearningServices/workspaces/vancouver/connections/vancouverbing\n",
            "🎉 Created Bing-grounded agent, ID: asst_scQ5mmIIYRctaoWiSCdiQFit\n"
          ]
        }
      ],
      "source": [
        "def create_bing_grounded_agent():\n",
        "    \"\"\"Create an agent that can use Bing to ground queries with up-to-date info.\"\"\"\n",
        "    try:\n",
        "        # 1. Retrieve Bing connection from your AI Foundry project\n",
        "        bing_conn_name = os.environ.get(\"GROUNDING_WITH_BING_CONNECTION_NAME\")\n",
        "        if not bing_conn_name:\n",
        "            raise ValueError(\"GROUNDING_WITH_BING_CONNECTION_NAME not set in .env\")\n",
        "\n",
        "        bing_connection = project_client.connections.get(connection_name=bing_conn_name)\n",
        "        conn_id = bing_connection.id\n",
        "        print(f\"Bing Connection ID: {conn_id}\")\n",
        "\n",
        "        # 2. Initialize Bing grounding tool\n",
        "        bing_tool = BingGroundingTool(connection_id=conn_id)\n",
        "\n",
        "        # 3. Create an agent that can search with Bing\n",
        "        agent = project_client.agents.create_agent(\n",
        "            model=os.environ.get(\"MODEL_DEPLOYMENT_NAME\", \"gpt-4o-0513\"),\n",
        "            name=\"health-bing-agent\",\n",
        "            instructions=\"\"\"\n",
        "                You are a health and fitness assistant with Bing search capabilities.\n",
        "                Always:\n",
        "                1. Provide disclaimers that you are not a medical professional.\n",
        "                2. Encourage professional consultation.\n",
        "                3. Use Bing for real-time references.\n",
        "                4. Provide brief, helpful answers.\n",
        "            \"\"\",\n",
        "            tools=bing_tool.definitions,\n",
        "            # Must pass special preview header to use Bing grounding (subject to change)\n",
        "            headers={\"x-ms-enable-preview\": \"true\"},\n",
        "        )\n",
        "\n",
        "        print(f\"🎉 Created Bing-grounded agent, ID: {agent.id}\")\n",
        "        return agent\n",
        "    except Exception as e:\n",
        "        print(f\"❌ Error creating Bing-grounded agent: {e}\")\n",
        "        return None\n",
        "\n",
        "# Create our Bing-based agent\n",
        "bing_agent = create_bing_grounded_agent()"
      ]
    },
    {
      "cell_type": "markdown",
      "id": "create-thread",
      "metadata": {},
      "source": [
        "## 3. Starting Threads & Asking Questions 💬\n",
        "We'll create conversation threads for each user query, letting the agent search with Bing to find relevant info. We will store all `(thread, run)` pairs in a list so we can review them in the next step."
      ]
    },
    {
      "cell_type": "code",
      "execution_count": 3,
      "id": "create-thread-code",
      "metadata": {},
      "outputs": [
        {
          "name": "stdout",
          "output_type": "stream",
          "text": [
            "📝 Created a conversation thread, ID: thread_RpijJbg3l9vONnnD9hxQmTyZ\n",
            "📨 Created user message with query: 'What are some new HIIT workout trends I should know about?'\n",
            "🤖 Run finished with status: RunStatus.COMPLETED\n",
            "\n",
            "📝 Created a conversation thread, ID: thread_SenOqCEMwSnZ6TujOLBVsqHr\n",
            "📨 Created user message with query: 'What's the current WHO recommendation for sugar intake?'\n",
            "🤖 Run finished with status: RunStatus.COMPLETED\n",
            "\n",
            "📝 Created a conversation thread, ID: thread_dHubvRC9T5zvMEG4mMgH2r5W\n",
            "📨 Created user message with query: 'Any news on intermittent fasting for weight management?'\n",
            "🤖 Run finished with status: RunStatus.COMPLETED\n",
            "\n"
          ]
        }
      ],
      "source": [
        "bing_threads = []\n",
        "\n",
        "def ask_bing_question(agent, user_query):\n",
        "    try:\n",
        "        thread = project_client.agents.create_thread()\n",
        "        print(f\"📝 Created a conversation thread, ID: {thread.id}\")\n",
        "\n",
        "        # Post user query as a message\n",
        "        user_message = project_client.agents.create_message(\n",
        "            thread_id=thread.id,\n",
        "            role=\"user\",\n",
        "            content=user_query\n",
        "        )\n",
        "        print(f\"📨 Created user message with query: '{user_query}'\")\n",
        "\n",
        "        # Process the query with the agent\n",
        "        run = project_client.agents.create_and_process_run(\n",
        "            thread_id=thread.id,\n",
        "            agent_id=agent.id\n",
        "        )\n",
        "        print(f\"🤖 Run finished with status: {run.status}\\n\")\n",
        "        if run.last_error:\n",
        "            print(f\"Error detail: {run.last_error}\\n\")\n",
        "\n",
        "        return thread, run\n",
        "    except Exception as e:\n",
        "        print(f\"❌ Error asking Bing question: {e}\")\n",
        "        return None, None\n",
        "\n",
        "if bing_agent:\n",
        "    # We'll ask a few fun questions!\n",
        "    questions = [\n",
        "        \"What are some new HIIT workout trends I should know about?\",\n",
        "        \"What's the current WHO recommendation for sugar intake?\",\n",
        "        \"Any news on intermittent fasting for weight management?\"\n",
        "    ]\n",
        "\n",
        "    for q in questions:\n",
        "        thr, rn = ask_bing_question(bing_agent, q)\n",
        "        if thr and rn:\n",
        "            bing_threads.append((thr, rn))"
      ]
    },
    {
      "cell_type": "markdown",
      "id": "view-thread",
      "metadata": {},
      "source": [
        "## 4. Viewing Bing-Grounded Answers & Query URLs\n",
        "We’ll retrieve each thread's messages, printing both the user queries and the agent's responses. We'll also fetch the run steps to display the **Bing Search Query URL** (so you can comply with the requirement to show where the data came from). You can replace `api.bing.microsoft.com` with `www.bing.com` to form a user-friendly link.\n",
        "\n",
        "Because `RunStep` objects do **not** have `.details`, we look instead for `'request_url'` in `step[\"parameters\"]`. If found, it's presumably the Bing step."
      ]
    },
    {
      "cell_type": "code",
      "execution_count": 4,
      "id": "view-thread-code",
      "metadata": {},
      "outputs": [
        {
          "name": "stdout",
          "output_type": "stream",
          "text": [
            "\n",
            "🗣️ Conversation for thread: thread_RpijJbg3l9vONnnD9hxQmTyZ\n",
            "USER: What are some new HIIT workout trends I should know about?\n",
            "\n",
            "ASSISTANT: Here are some new HIIT (High-Intensity Interval Training) workout trends in 2024 and 2025:\n",
            "\n",
            "1. **Hybrid HIIT**: Combines HIIT with strength training or Pilates, blending intense intervals with muscle-toning exercises for a balanced workout.\n",
            "2. **Wearable Tech-Integrated HIIT**: Workouts are now often guided by heart rate monitors or fitness trackers to optimize intensity and recovery.\n",
            "3. **EMOM (Every Minute On the Minute)**: Involves performing a set amount of work at the start of every minute, then resting for the remainder. This structure keeps workouts fast and challenging.\n",
            "4. **HIIT for Mind-Body**: Many routines now integrate breathwork, mindfulness, or meditation in cooldowns to address both physical fitness and mental well-being.\n",
            "5. **Express HIIT**: Ultra-short workouts (10-15 minutes) designed for busy schedules, often available on streaming platforms or fitness apps.\n",
            "6. **Functional Mobility HIIT**: Focuses on movements that improve flexibility, mobility, and injury prevention in addition to cardio.\n",
            "7. **Group Virtual HIIT Classes**: Live, interactive sessions online create a community feel even for at-home workouts.\n",
            "\n",
            "Remember, HIIT is intense and not suitable for everyone. Always check with a healthcare or fitness professional before starting any new regimen, especially if you have health concerns.\n",
            "\n",
            "For more details and the latest updates, you can look at sources like Shape, Men’s Health, or Women’s Health. If you’d like recent articles, let me know and I can find some with Bing.\n",
            "\n",
            "\n",
            "🔎 Bing run steps:\n",
            "\n",
            "🗣️ Conversation for thread: thread_SenOqCEMwSnZ6TujOLBVsqHr\n",
            "USER: What's the current WHO recommendation for sugar intake?\n",
            "\n",
            "ASSISTANT: The current World Health Organization (WHO) recommendation is that both adults and children should reduce their intake of free sugars to less than 10% of their total daily energy intake. For even greater health benefits, a further reduction to below 5% of total energy intake is encouraged. Free sugars include sugars added to foods and drinks, as well as those naturally present in honey, syrups, and fruit juices. These guidelines aim to help reduce the risk of non-communicable diseases, unhealthy weight gain, and dental caries.\n",
            "\n",
            "Please note that I am not a medical professional. For personalized advice, consult a registered dietitian or healthcare provider.【3:0†source】\n",
            "\n",
            "\n",
            "🔎 Bing run steps:\n",
            "\n",
            "🗣️ Conversation for thread: thread_dHubvRC9T5zvMEG4mMgH2r5W\n",
            "USER: Any news on intermittent fasting for weight management?\n",
            "\n",
            "ASSISTANT: Yes, there is recent news on intermittent fasting for weight management. A 2025 review led by University of Toronto researchers found that intermittent fasting is just as effective as traditional calorie-restriction diets for weight loss. Various approaches to intermittent fasting, such as alternate-day fasting and time-restricted eating (like a 16:8 schedule), offer similar long-term benefits. Alternate-day fasting may offer slightly better short-term weight loss compared to calorie counting and also improves cardiometabolic markers like blood pressure and cholesterol【3:2†medicalxpress.com】.\n",
            "\n",
            "Additionally, a recent clinical trial found that intermittent fasting (especially the 4:3 method, where calories are restricted by 80% three days a week) can produce slightly greater weight loss and better health outcomes (blood pressure, cholesterol, and blood sugar) than daily calorie-cutting. More people stuck with fasting, suggesting it may be easier for some to maintain compared to traditional dieting routines【3:4†usnews.com】.\n",
            "\n",
            "There's growing evidence that starting your last meal before 5 p.m. and fasting overnight can effectively improve blood sugar and reduce abdominal fat, according to new research from the University of Granada【3:6†sciencedaily.com】.\n",
            "\n",
            "**Disclaimer:** I'm not a medical professional. Please consult your doctor or a registered dietitian before starting any fasting program, especially if you have a medical condition or take medication.\n",
            "\n",
            "\n",
            "🔎 Bing run steps:\n"
          ]
        }
      ],
      "source": [
        "def view_bing_conversation(thread_id, run_id):\n",
        "    try:\n",
        "        # Print conversation\n",
        "        messages = project_client.agents.list_messages(thread_id=thread_id)\n",
        "        print(\"\\n🗣️ Conversation for thread:\", thread_id)\n",
        "        reversed_msgs = list(reversed(messages.data))  # oldest first\n",
        "        for msg in reversed_msgs:\n",
        "            role = msg.role.upper()\n",
        "            if msg.content:\n",
        "                for c in msg.content:\n",
        "                    if hasattr(c, 'text') and c.text:\n",
        "                        print(f\"{role}: {c.text.value}\\n\")\n",
        "\n",
        "        # Retrieve run steps to get Bing search query link\n",
        "        run_steps = project_client.agents.list_run_steps(thread_id=thread_id, run_id=run_id)\n",
        "        steps_data = run_steps.get('data', [])\n",
        "        if steps_data:\n",
        "            print(\"\\n🔎 Bing run steps:\")\n",
        "            for step in steps_data:\n",
        "                # 'parameters' is typically where BingGroundingTool stores request_url\n",
        "                params = step.get('parameters', {})\n",
        "                if 'request_url' in params:\n",
        "                    original_url = params['request_url']\n",
        "                    friendly_url = original_url.replace(\"api.bing.microsoft.com\", \"www.bing.com\")\n",
        "                    print(f\"    Bing search URL: {friendly_url}\")\n",
        "        else:\n",
        "            print(\"No run step data found for this conversation.\")\n",
        "    except Exception as e:\n",
        "        print(f\"❌ Error viewing Bing conversation: {e}\")\n",
        "\n",
        "# Display all queries and agent responses\n",
        "if bing_threads:\n",
        "    for (thr, rn) in bing_threads:\n",
        "        view_bing_conversation(thr.id, rn.id)"
      ]
    },
    {
      "cell_type": "markdown",
      "id": "cleanup",
      "metadata": {},
      "source": [
        "## 5. Cleanup & Best Practices\n",
        "You can optionally delete the agent once you're done. In production, you might keep it around for repeated usage.\n",
        "\n",
        "### Best Practices\n",
        "1. **Accuracy** – Bing search results may include disclaimers or partial info. Encourage verification with credible sources.\n",
        "2. **Bing Query Display** – For compliance with Bing's use and display requirements, show both **website URLs** (in the agent's response) and **Bing search query URLs** (shown above). If the model includes citations, display them as well.\n",
        "3. **Limits** – Keep an eye on usage, rate limits, or policy constraints for Bing.\n",
        "4. **Privacy** – Filter search queries to avoid sending sensitive data.\n",
        "5. **Evaluations** – Use `azure-ai-evaluation` for iterative improvement.\n"
      ]
    },
    {
      "cell_type": "code",
      "execution_count": null,
      "id": "cleanup-code",
      "metadata": {},
      "outputs": [],
      "source": [
        "def cleanup_bing_agent(agent):\n",
        "    if agent:\n",
        "        try:\n",
        "            project_client.agents.delete_agent(agent.id)\n",
        "            print(f\"🗑️ Deleted Bing-grounded agent: {agent.name}\")\n",
        "        except Exception as e:\n",
        "            print(f\"❌ Error cleaning up agent: {e}\")\n",
        "    else:\n",
        "        print(\"No agent to clean up.\")\n",
        "\n",
        "# Uncomment if you want to remove the agent now\n",
        "cleanup_bing_agent(bing_agent)"
      ]
    },
    {
      "cell_type": "markdown",
      "id": "final-note",
      "metadata": {},
      "source": [
        "# Congratulations! 🎉\n",
        "You've built a **Bing-Grounded Health & Fitness Agent** that can:\n",
        "1. **Search** the web with Bing.\n",
        "2. **Answer** health/fitness questions with disclaimers.\n",
        "3. **Include** references and Bing search query links.\n",
        "\n",
        "Feel free to expand this approach by combining the BingGroundingTool with other tools (e.g., **FileSearchTool**, **CodeInterpreterTool**) to build a robust advisor.\n",
        "\n",
        "#### Let's proceed to [5-agents-aisearch.ipynb](./5-agents-aisearch.ipynb)"
      ]
    }
  ],
  "metadata": {
    "kernelspec": {
      "display_name": "ai-foundry-workshop",
      "language": "python",
      "name": "python3"
    },
    "language_info": {
      "codemirror_mode": {
        "name": "ipython",
        "version": 3
      },
      "file_extension": ".py",
      "mimetype": "text/x-python",
      "name": "python",
      "nbconvert_exporter": "python",
      "pygments_lexer": "ipython3",
      "version": "3.13.6"
    }
  },
  "nbformat": 4,
  "nbformat_minor": 5
}
