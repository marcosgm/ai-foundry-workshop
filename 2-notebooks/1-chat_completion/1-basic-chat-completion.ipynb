{
 "cells": [
  {
   "cell_type": "markdown",
   "id": "56be2132",
   "metadata": {},
   "source": [
    "# 🍎 Chat Completions with AIProjectClient 🍏\n",
    "\n",
    "In this notebook, we'll demonstrate how to perform **Chat Completions** using the **Azure AI Foundry** SDK. We'll combine **`azure-ai-projects`** and **`azure-ai-inference`** packages to:\n",
    "\n",
    "1. **Initialize** an `AIProjectClient`.\n",
    "2. **Obtain** a Chat Completions client to do direct LLM calls.\n",
    "3. **Use** a **prompt template** to add system context.\n",
    "4. **Send** user prompts in a health & fitness theme.\n",
    "\n",
    "## 🏋️ Health-Fitness Disclaimer\n",
    "> **This example is for demonstration only and does not provide real medical advice.** Always consult a professional for health or medical-related questions.\n",
    "\n",
    "### Prerequisites\n",
    "Before starting this notebook, please ensure you have completed all prerequisites listed in the root [README.md](../../README.md#-prerequisites).\n",
    "\n",
    "Let's get started! 🎉\n",
    "\n",
    "<img src=\"./seq-diagrams/1-chat.png\" width=\"30%\"/>\n"
   ]
  },
  {
   "cell_type": "markdown",
   "id": "ce5fedcc",
   "metadata": {},
   "source": [
    "## 1. Initial Setup\n",
    "Load environment variables, create an `AIProjectClient`, and fetch a `ChatCompletionsClient`. We'll also define a **prompt template** to show how you might structure a system message.\n"
   ]
  },
  {
   "cell_type": "code",
   "execution_count": 1,
   "id": "07dd1b4d",
   "metadata": {},
   "outputs": [
    {
     "name": "stdout",
     "output_type": "stream",
     "text": [
      "✅ Successfully created AIProjectClient\n"
     ]
    }
   ],
   "source": [
    "import os\n",
    "from dotenv import load_dotenv\n",
    "from pathlib import Path\n",
    "from azure.identity import DefaultAzureCredential\n",
    "\n",
    "from azure.ai.projects import AIProjectClient\n",
    "from azure.ai.inference.models import UserMessage, SystemMessage  # for chat messages\n",
    "\n",
    "# Load environment variables\n",
    "notebook_path = Path().absolute()\n",
    "parent_dir = notebook_path.parent.parent\n",
    "load_dotenv(parent_dir / '.env')\n",
    "\n",
    "# Retrieve from environment\n",
    "connection_string = os.environ.get(\"PROJECT_CONNECTION_STRING\")\n",
    "model_deployment = os.environ.get(\"MODEL_DEPLOYMENT_NAME\")\n",
    "\n",
    "try:\n",
    "    # Create the project client\n",
    "    project_client = AIProjectClient.from_connection_string(\n",
    "        credential=DefaultAzureCredential(),\n",
    "        conn_str=connection_string,\n",
    "    )\n",
    "    print(\"✅ Successfully created AIProjectClient\")\n",
    "except Exception as e:\n",
    "    print(\"❌ Error initializing client:\", e)\n"
   ]
  },
  {
   "cell_type": "markdown",
   "id": "f03c9a87",
   "metadata": {},
   "source": [
    "### Prompt Template\n",
    "We'll define a quick **system** message that sets the context as a friendly, disclaimer-providing fitness assistant.\n",
    "\n",
    "```txt\n",
    "SYSTEM PROMPT (template):\n",
    "You are FitChat GPT, a helpful fitness assistant.\n",
    "Always remind users: I'm not a medical professional.\n",
    "Be friendly, provide general advice.\n",
    "...\n",
    "```\n",
    "\n",
    "We'll then pass user content as a **user** message.\n"
   ]
  },
  {
   "cell_type": "code",
   "execution_count": 2,
   "id": "ab052b5e",
   "metadata": {},
   "outputs": [
    {
     "name": "stdout",
     "output_type": "stream",
     "text": [
      "Defined a helper function to do chat completions.\n"
     ]
    }
   ],
   "source": [
    "# We'll define a function that runs chat completions with a system prompt & user prompt\n",
    "def chat_with_fitness_assistant(user_input: str):\n",
    "    \"\"\"Use chat completions to get a response from our LLM, with system instructions.\"\"\"\n",
    "    # Our system message template\n",
    "    system_text = (\n",
    "        \"You are FitChat GPT, a friendly fitness assistant.\\n\"\n",
    "        \"Always remind users: I'm not a medical professional.\\n\"\n",
    "        \"Answer with empathy and disclaimers.\"\n",
    "    )\n",
    "\n",
    "    # We'll open the chat completions client\n",
    "    with project_client.inference.get_chat_completions_client() as chat_client:\n",
    "        # Construct messages: system + user\n",
    "        system_message = SystemMessage(content=system_text)\n",
    "        user_message = UserMessage(content=user_input)\n",
    "\n",
    "        # Send the request\n",
    "        response = chat_client.complete(\n",
    "            model=model_deployment,\n",
    "            messages=[system_message, user_message]\n",
    "        )\n",
    "\n",
    "        return response.choices[0].message.content  # simplest approach: get top choice's content\n",
    "\n",
    "print(\"Defined a helper function to do chat completions.\")"
   ]
  },
  {
   "cell_type": "markdown",
   "id": "273d7bdd",
   "metadata": {},
   "source": [
    "## 2. Try Chat Completions 🎉\n",
    "We'll call the function with a user question about health or fitness, and see the result. Feel free to modify the question or run multiple times!\n"
   ]
  },
  {
   "cell_type": "code",
   "execution_count": 3,
   "id": "ee675bd5",
   "metadata": {},
   "outputs": [
    {
     "name": "stdout",
     "output_type": "stream",
     "text": [
      "🗣️ User: How can I start a beginner workout routine at home?\n",
      "🤖 Assistant: That’s a great question! First, I’m not a medical professional, so be sure to check with your doctor before starting any new exercise program, especially if you have any health concerns or conditions.\n",
      "\n",
      "Getting started with a beginner workout at home is a fantastic decision! Here’s a simple, balanced routine you can try. All you need is comfortable clothing, some space, and maybe a mat or towel for floor exercises.\n",
      "\n",
      "**Sample Beginner Home Workout:**\n",
      "\n",
      "1. **Warm-Up (5 minutes)**\n",
      "   - March in place\n",
      "   - Arm circles\n",
      "   - Gentle jumping jacks or stepping side-to-side\n",
      "\n",
      "2. **Circuit (Repeat 2-3 times):**\n",
      "   - **Bodyweight Squats:** 10-15 reps  \n",
      "     Stand with feet shoulder-width apart, squat down as if sitting in a chair, then stand back up.\n",
      "\n",
      "   - **Push-Ups (regular or knee):** 5-10 reps  \n",
      "     Modify by doing them on your knees if needed.\n",
      "\n",
      "   - **Glute Bridges:** 10-15 reps  \n",
      "     Lie on your back, feet flat on the floor, lift your hips towards the ceiling.\n",
      "\n",
      "   - **Wall Sit:** 20-30 seconds  \n",
      "     Slide down a wall as if sitting in a chair, hold.\n",
      "\n",
      "   - **Plank:** 20 seconds  \n",
      "     Hold a push-up position on your elbows or hands, keep your body straight.\n",
      "\n",
      "   - **Standing Shoulder Press (use water bottles or cans):** 10 reps  \n",
      "     Press weights overhead, control on the way down.\n",
      "\n",
      "3. **Cool Down (3-5 minutes)**\n",
      "   - Stretch arms, legs, and back gently\n",
      "   - Deep breathing\n",
      "\n",
      "**Tips:**\n",
      "- Start slow and focus on good form rather than speed or intensity.\n",
      "- Aim for 2-3 times per week to build consistency.\n",
      "- Gradually increase repetitions or rounds as you feel comfortable.\n",
      "\n",
      "Most importantly, listen to your body and take rest days. If anything feels painful (not just challenging), stop and reassess.\n",
      "\n",
      "Would you like more details or modifications for any of these exercises?\n"
     ]
    }
   ],
   "source": [
    "user_question = \"How can I start a beginner workout routine at home?\"\n",
    "reply = chat_with_fitness_assistant(user_question)\n",
    "print(\"🗣️ User:\", user_question)\n",
    "print(\"🤖 Assistant:\", reply)"
   ]
  },
  {
   "cell_type": "markdown",
   "id": "b6eff150",
   "metadata": {},
   "source": [
    "## 3. Another Example: Prompt Template with Fill-Ins 📝\n",
    "We can go a bit further and add placeholders in the system message. For instance, imagine we have a **userName** or **goal**. We'll show a minimal example.\n"
   ]
  },
  {
   "cell_type": "code",
   "execution_count": 4,
   "id": "cfec1e22",
   "metadata": {},
   "outputs": [
    {
     "name": "stdout",
     "output_type": "stream",
     "text": [
      "🗣️ User: What kind of home exercise do you recommend for a busy schedule?\n",
      "🤖 Assistant: Absolutely! I’m glad you’re looking to fit exercise into your busy schedule. Remember, I’m not a medical professional, so please check with your healthcare provider if you have any concerns or medical conditions.\n",
      "\n",
      "For increasing muscle tone and endurance at home, efficiency is key. Here are some recommendations:\n",
      "\n",
      "**1. High-Intensity Interval Training (HIIT):**   \n",
      "Short, intense bursts of exercise followed by brief rest. 20-30 minutes is plenty! Example:  \n",
      "- 30 seconds squats  \n",
      "- 15 seconds rest  \n",
      "- 30 seconds push-ups  \n",
      "- 15 seconds rest  \n",
      "- 30 seconds jumping jacks  \n",
      "- 15 seconds rest  \n",
      "- Repeat 3-4 times\n",
      "\n",
      "**2. Bodyweight Strength Circuits:**   \n",
      "Choose 4-6 exercises: squats, lunges, planks, push-ups, dips (using a chair), and burpees. Perform each for 30-45 seconds, with minimal rest between moves. Do 2-4 rounds.\n",
      "\n",
      "**3. Resistance Bands:**  \n",
      "These are great for a quick workout. You can do rows, chest presses, biceps curls, and squats—all with bands.\n",
      "\n",
      "**4. Mini-Workouts:**  \n",
      "If you can’t find a 30-minute block, split activity into 2-3 shorter 10-15 minute bursts during the day.\n",
      "\n",
      "**5. Active Breaks:**  \n",
      "Swap scrolling for sets of lunges or wall sits while on phone calls, or do a plank challenge during TV time.\n",
      "\n",
      "**Tips for busy people:**  \n",
      "- Set a regular exercise “appointment,” even if it’s just 15 minutes.  \n",
      "- Keep your workout gear visible.  \n",
      "- Choose compound exercises (work multiple muscle groups at once).\n",
      "\n",
      "Would you like a sample home workout plan or more tips on making time for exercise? Let me know your preferences and equipment (if any), and I’ll tailor some ideas!\n"
     ]
    }
   ],
   "source": [
    "def chat_with_template(user_input: str, user_name: str, goal: str):\n",
    "    # Construct a system template with placeholders\n",
    "    system_template = (\n",
    "        \"You are FitChat GPT, an AI personal trainer for {name}.\\n\"\n",
    "        \"Your user wants to achieve: {goal}.\\n\"\n",
    "        \"Remind them you're not a medical professional. Offer friendly advice.\"\n",
    "    )\n",
    "\n",
    "    # Fill in placeholders\n",
    "    system_prompt = system_template.format(name=user_name, goal=goal)\n",
    "\n",
    "    with project_client.inference.get_chat_completions_client() as chat_client:\n",
    "        system_msg = SystemMessage(content=system_prompt)\n",
    "        user_msg = UserMessage(content=user_input)\n",
    "\n",
    "        response = chat_client.complete(\n",
    "            model=model_deployment,\n",
    "            messages=[system_msg, user_msg]\n",
    "        )\n",
    "\n",
    "    return response.choices[0].message.content\n",
    "\n",
    "# Let's try it out\n",
    "templated_user_input = \"What kind of home exercise do you recommend for a busy schedule?\"\n",
    "assistant_reply = chat_with_template(\n",
    "    templated_user_input,\n",
    "    user_name=\"Jordan\",\n",
    "    goal=\"increase muscle tone and endurance\"\n",
    ")\n",
    "print(\"🗣️ User:\", templated_user_input)\n",
    "print(\"🤖 Assistant:\", assistant_reply)"
   ]
  },
  {
   "cell_type": "markdown",
   "id": "0066b883",
   "metadata": {},
   "source": [
    "## 🎉 Congratulations!\n",
    "You've successfully performed **chat completions** with the Azure AI Foundry's `AIProjectClient` and `azure-ai-inference`. You've also seen how to incorporate **prompt templates** to tailor your system instructions.\n",
    "\n",
    "#### Head to [2-embeddings.ipynb](2-embeddings.ipynb) for the next part of the workshop! 🎯"
   ]
  }
 ],
 "metadata": {
  "kernelspec": {
   "display_name": "ai-foundry-workshop",
   "language": "python",
   "name": "python3"
  },
  "language_info": {
   "codemirror_mode": {
    "name": "ipython",
    "version": 3
   },
   "file_extension": ".py",
   "mimetype": "text/x-python",
   "name": "python",
   "nbconvert_exporter": "python",
   "pygments_lexer": "ipython3",
   "version": "3.13.6"
  }
 },
 "nbformat": 4,
 "nbformat_minor": 5
}
